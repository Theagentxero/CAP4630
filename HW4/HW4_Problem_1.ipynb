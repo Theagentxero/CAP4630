{
  "nbformat": 4,
  "nbformat_minor": 0,
  "metadata": {
    "colab": {
      "name": "HW4 Problem 1.ipynb",
      "provenance": [],
      "collapsed_sections": [],
      "authorship_tag": "ABX9TyMVQpTT170NayMoxQlvGIZK",
      "include_colab_link": true
    },
    "kernelspec": {
      "name": "python3",
      "display_name": "Python 3"
    }
  },
  "cells": [
    {
      "cell_type": "markdown",
      "metadata": {
        "id": "view-in-github",
        "colab_type": "text"
      },
      "source": [
        "<a href=\"https://colab.research.google.com/github/Theagentxero/CAP4630/blob/master/HW4/HW4_Problem_1.ipynb\" target=\"_parent\"><img src=\"https://colab.research.google.com/assets/colab-badge.svg\" alt=\"Open In Colab\"/></a>"
      ]
    },
    {
      "cell_type": "code",
      "metadata": {
        "id": "SxDBVXXmGZRJ",
        "colab_type": "code",
        "colab": {}
      },
      "source": [
        "import numpy as np"
      ],
      "execution_count": 0,
      "outputs": []
    },
    {
      "cell_type": "markdown",
      "metadata": {
        "id": "CnNDylC-HU-1",
        "colab_type": "text"
      },
      "source": [
        "Make Exceptions"
      ]
    },
    {
      "cell_type": "code",
      "metadata": {
        "id": "3hBb12EpHToZ",
        "colab_type": "code",
        "colab": {}
      },
      "source": [
        "# Matrix is Not Square\n",
        "class NotSq(Exception):\n",
        "  def __init__(self, msg):\n",
        "    super().__init__(msg)\n",
        "\n",
        "# Kernel is too big\n",
        "class KernelSizeExceedsInput(Exception):\n",
        "  def __init__(self, msg):\n",
        "    super().__init__(msg)"
      ],
      "execution_count": 0,
      "outputs": []
    },
    {
      "cell_type": "markdown",
      "metadata": {
        "id": "-Tvelw90Hz7a",
        "colab_type": "text"
      },
      "source": [
        ""
      ]
    },
    {
      "cell_type": "code",
      "metadata": {
        "id": "V9gxdYIgINFk",
        "colab_type": "code",
        "colab": {}
      },
      "source": [
        "def conv2d(input_mat, kernel_mat):\n",
        "    # Check if the Input and Kernel Are Square\n",
        "    if input_mat.shape[0] != input_mat.shape[1] or kernel_mat.shape[0] != kernel_mat.shape[1]:\n",
        "        # Throw Exception Not Square\n",
        "        raise NotSq('Both kernel_mat and input_mat must be square')\n",
        "        return []\n",
        "    \n",
        "    # Check To Ensure That Input larger than kernel\n",
        "    if kernel_mat.shape[0] > input_mat.shape[0]:\n",
        "        # Kernal is Bigger Than Input\n",
        "        raise KernelSizeExceeedsInput(\"Kernel Cannot Be Larger Than Input\")\n",
        "\n",
        "    # Get Output Size\n",
        "    output_n = input_mat.shape[0] - kernel_mat.shape[0] + 1\n",
        "\n",
        "    # Create The Output Matrix\n",
        "    output = np.zeros((output_n, output_n))\n",
        "\n",
        "    # Perform The Convolution\n",
        "    for i, row in enumerate(output):\n",
        "        for j, col in enumerate(row):\n",
        "            output[i,j] = (np.multiply(kernel_mat, input_mat[i:i+kernel_mat.shape[0], j:j+kernel_mat.shape[0]]).sum())\n",
        "\n",
        "    return output"
      ],
      "execution_count": 0,
      "outputs": []
    }
  ]
}