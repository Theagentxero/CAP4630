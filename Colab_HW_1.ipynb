{
  "nbformat": 4,
  "nbformat_minor": 0,
  "metadata": {
    "colab": {
      "name": "trichards - HW 1.ipynb",
      "provenance": [],
      "collapsed_sections": [],
      "authorship_tag": "ABX9TyMhrpKaxIAjgGHe74vxa8eE",
      "include_colab_link": true
    },
    "kernelspec": {
      "name": "python3",
      "display_name": "Python 3"
    }
  },
  "cells": [
    {
      "cell_type": "markdown",
      "metadata": {
        "id": "view-in-github",
        "colab_type": "text"
      },
      "source": [
        "<a href=\"https://colab.research.google.com/github/Theagentxero/CAP4630/blob/master/Colab_HW_1.ipynb\" target=\"_parent\"><img src=\"https://colab.research.google.com/assets/colab-badge.svg\" alt=\"Open In Colab\"/></a>"
      ]
    },
    {
      "cell_type": "markdown",
      "metadata": {
        "id": "SCX4Z_qqoqMT",
        "colab_type": "text"
      },
      "source": [
        "### HW1\n",
        "#### Taylor Richards\n",
        "## Import and Setup"
      ]
    },
    {
      "cell_type": "code",
      "metadata": {
        "id": "Ff9oodFDobYR",
        "colab_type": "code",
        "colab": {}
      },
      "source": [
        "import numpy as np"
      ],
      "execution_count": 0,
      "outputs": []
    },
    {
      "cell_type": "markdown",
      "metadata": {
        "id": "Mp4XMSx05d2S",
        "colab_type": "text"
      },
      "source": [
        "Matrix Multiplication Primer\n",
        "====================================\n",
        "---\n",
        "###Consider the following discrete set of matrices: $\\textit{M}$\n",
        "\n",
        "\\begin{equation}\n",
        "\\textit{M} = \\left\\{ \n",
        "\\begin{bmatrix} 1 & 2 & 3\\\\ 4 & 5 & 6 \\end{bmatrix}\n",
        "\\;\n",
        ",\n",
        "\\;\n",
        "\\begin{bmatrix} 7 & 8 & 9 \\\\ 10 & 11 & 12 \\\\ 13 & 14 & 15 \\\\ 16 & 17 & 18 \\end{bmatrix}\n",
        "\\;\n",
        ",\n",
        "\\;\n",
        "\\begin{bmatrix} 19 & 20 & 21 & 22 \\\\ 23 & 24 & 25 & 26 \\end{bmatrix}\n",
        "\\;\n",
        ",\n",
        "\\;\n",
        "\\begin{bmatrix} 27 & 28 \\\\ 29 & 30 \\\\ 31 & 32 \\end{bmatrix}\n",
        "\\right\\}\n",
        "\\end{equation}\n",
        "\n",
        "  <br/>\n",
        "\n",
        "###In it's current state, a linear dot product on $\\textit{M}$ is not possible.\n",
        "\n",
        "####Why Not?\n",
        "\n",
        "Before it's possible to understand why, we need to have some defintions:\n",
        "\n",
        "Consider This Matrix:  \n",
        "\n",
        "$\\begin{bmatrix} 1 & 2 & 3\\\\ a & b & c \\end{bmatrix}$\n",
        "\n",
        "Its dimentions are described by: &nbsp; $i\\times j$ &nbsp; Also sometimes denoted: &nbsp; $\\left(i,j\\right)$ or $\\left[i\\right]\\left[j\\right]$\n",
        "\n",
        "Since multi-dimentional arrays in numpy are [Row-Major](https://en.wikipedia.org/wiki/Row-_and_column-major_order#External_libraries) we will consider $i$ to be the *rows*, and $j$ to be the *columns*.\n",
        "\n",
        "  <br/>\n",
        "\n",
        "####To Dot Product Matricies, The Inner Dimentions Of The Matricies Must Match \n",
        "\n",
        "As an example: Consider that some matrix $A$ with dimentions: &nbsp;$A_i\\times A_j$ &nbsp; and another matrix $B$ with dimentions: &nbsp;$B_j\\times B_k$ &nbsp; can only be multiplied when &nbsp;$A_j=B_j$ &nbsp;\n",
        "\n",
        "The resulting matrix $C$ will have the dimentions: &nbsp;$A_j\\times B_k$ &nbsp;\n",
        "\n",
        "And will require $A_i\\cdot A_j\\cdot B_k$ operations to complete.\n",
        "\n",
        "### The Implications of This Rule\n",
        "\n",
        "Drawing from the set $M$: (From above, written again here for convenience)\n",
        "\n",
        "\\begin{equation}\n",
        "\\textit{M} = \\left\\{ \n",
        "\\begin{bmatrix} 1 & 2 & 3\\\\ 4 & 5 & 6 \\end{bmatrix}\n",
        "\\;\n",
        ",\n",
        "\\;\n",
        "\\begin{bmatrix} 7 & 8 & 9 \\\\ 10 & 11 & 12 \\\\ 13 & 14 & 15 \\\\ 16 & 17 & 18 \\end{bmatrix}\n",
        "\\;\n",
        ",\n",
        "\\;\n",
        "\\begin{bmatrix} 19 & 20 & 21 & 22 \\\\ 23 & 24 & 25 & 26 \\end{bmatrix}\n",
        "\\;\n",
        ",\n",
        "\\;\n",
        "\\begin{bmatrix} 27 & 28 \\\\ 29 & 30 \\\\ 31 & 32 \\end{bmatrix}\n",
        "\\right\\}\n",
        "\\end{equation}\n",
        "\n",
        "  <br/>\n",
        "\n",
        "####Some possible ordering options that would allow for dot product are:\n",
        "\n",
        "\\begin{equation}\n",
        "\\left\\{ \n",
        "M_{1}\\cdot M_{4}\\cdot M_{3}\\cdot M_{2}\n",
        "\\right\\}\n",
        "\\;\n",
        "\\mbox{or}\n",
        "\\;\n",
        "\\left\\{ \n",
        "M_{3}\\cdot M_{2}\\cdot M_{4}\\cdot M_{1}\n",
        "\\right\\}\n",
        "\\end{equation}\n",
        "\n",
        "Which would appear as:\n",
        "\n",
        "\\begin{equation}\n",
        "\\left\\{ \n",
        "M_{1}\\cdot M_{4}\\cdot M_{3}\\cdot M_{2}\n",
        "\\right\\} = \\left\\{ \n",
        "\\begin{bmatrix} 1 & 2 & 3\\\\ 4 & 5 & 6 \\end{bmatrix}\n",
        "\\;\n",
        "\\bullet\n",
        "\\;\n",
        "\\begin{bmatrix} 27 & 28 \\\\ 29 & 30 \\\\ 31 & 32 \\end{bmatrix}\n",
        "\\;\n",
        "\\bullet\n",
        "\\;\n",
        "\\begin{bmatrix} 19 & 20 & 21 & 22 \\\\ 23 & 24 & 25 & 26 \\end{bmatrix}\n",
        "\\;\n",
        "\\bullet\n",
        "\\;\n",
        "\\begin{bmatrix} 7 & 8 & 9 \\\\ 10 & 11 & 12 \\\\ 13 & 14 & 15 \\\\ 16 & 17 & 18 \\end{bmatrix}\n",
        "\\right\\}\n",
        "\\end{equation}\n",
        "\n",
        "\\begin{equation}\n",
        "\\left\\{ \n",
        "M_{3}\\cdot M_{2}\\cdot M_{4}\\cdot M_{1}\n",
        "\\right\\} = \\left\\{ \n",
        "\\begin{bmatrix} 19 & 20 & 21 & 22 \\\\ 23 & 24 & 25 & 26 \\end{bmatrix}\n",
        "\\;\n",
        "\\bullet\n",
        "\\;\n",
        "\\begin{bmatrix} 7 & 8 & 9 \\\\ 10 & 11 & 12 \\\\ 13 & 14 & 15 \\\\ 16 & 17 & 18 \\end{bmatrix}\n",
        "\\;\n",
        "\\bullet\n",
        "\\;\n",
        "\\begin{bmatrix} 27 & 28 \\\\ 29 & 30 \\\\ 31 & 32 \\end{bmatrix}\n",
        "\\;\n",
        "\\bullet\n",
        "\\;\n",
        "\\begin{bmatrix} 1 & 2 & 3\\\\ 4 & 5 & 6 \\end{bmatrix}\n",
        "\\right\\}\n",
        "\\end{equation}\n",
        "\n",
        "  <br/>\n",
        "\n",
        "\n",
        "\n",
        "\n",
        "\n",
        "\n",
        "\n",
        "\n",
        "\n",
        "\n"
      ]
    },
    {
      "cell_type": "markdown",
      "metadata": {
        "id": "Wx0VQh2lpvD9",
        "colab_type": "text"
      },
      "source": [
        "--- \n",
        "\n",
        "##So What Does The Function Need To Do In Order To Multiply Matricies?\n",
        "\n",
        "1. Order the matricies, such that they can be multiplied\n",
        "\n",
        "   If the function is unable to perform this ordering then the function should return an error denoting that the matricies in question could not be ordered in such a way that they could be multiplied.\n",
        "\n",
        "2. Perform the operations in order"
      ]
    },
    {
      "cell_type": "markdown",
      "metadata": {
        "id": "yf8qR0xmtwBq",
        "colab_type": "text"
      },
      "source": [
        "####This Will Generate $M$ To Test With"
      ]
    },
    {
      "cell_type": "code",
      "metadata": {
        "id": "z-wrDxrZuNN1",
        "colab_type": "code",
        "colab": {}
      },
      "source": [
        "matrix_list = []\n",
        "tmp = np.array([[1,2,3],[4,5,6]]);\n",
        "matrix_list.append(tmp);\n",
        "tmp = np.array([[7,8,9],[10,11,12],[13,14,15],[16,17,18]]);\n",
        "matrix_list.append(tmp);\n",
        "tmp = np.array([[19,20,21,22],[23,24,25,26]]);\n",
        "matrix_list.append(tmp);\n",
        "tmp = np.array([[27,28],[29,30],[31,32]]);\n",
        "matrix_list.append(tmp);"
      ],
      "execution_count": 0,
      "outputs": []
    },
    {
      "cell_type": "markdown",
      "metadata": {
        "id": "9leiMMOdZ7M8",
        "colab_type": "text"
      },
      "source": [
        "Matrix Chain Multiplication Function\n",
        "====================================\n",
        "\n",
        "The function assumes that the matricies are in no particular order\n",
        "\n",
        "Multiplication of matricies requires matching inner dimentions"
      ]
    },
    {
      "cell_type": "code",
      "metadata": {
        "id": "OVYfy2S05mx6",
        "colab_type": "code",
        "colab": {}
      },
      "source": [
        "# Matrix Multiplication Function\n",
        "def multiply_matrices(list_of_numpy_matrix_arrays):\n",
        "    mlist = list_of_numpy_matrix_arrays.copy();\n",
        "    # Perform Ordering of Matricies\n",
        "    # A Recursive Backtracking solution\n",
        "    ordered_list = [];\n",
        "    longest_failure = [];\n",
        "    err, ol, msg, longest = order_matricies(mlist, ordered_list, None, longest_failure);\n",
        "    \n",
        "    if err == 1:\n",
        "        # Determine what the problem children are\n",
        "        longest_failure = longest;\n",
        "        # 0 x 0 tuple TFW: https://i.imgur.com/fHg1w0v.png\n",
        "        ralphs = [];\n",
        "        for i, m in enumerate(mlist):\n",
        "            m_found = 0;\n",
        "            for fail in longest_failure:\n",
        "                if np.array_equal(fail, m):\n",
        "                    m_found = 1;\n",
        "                    break;\n",
        "            if m_found == 0:\n",
        "                t = i, m;\n",
        "                ralphs.append(t);\n",
        "        else:\n",
        "            try:\n",
        "                raise NoPossiblePermutationWithGivenElements;\n",
        "            except NoPossiblePermutationWithGivenElements:\n",
        "                problem_indexes = \"\";\n",
        "                for v in ralphs:\n",
        "                    problem_indexes = str(v[0]) + \" \";\n",
        "                print(f'EXCEPTION: Matrix Multiplication Impossible On Given Input');\n",
        "                print(\"No Possible Permutation Of Given Inputs Allows For Dot Product\");\n",
        "                print(f'Possible Culprit At Index(es): { problem_indexes }')\n",
        "                print(f'Matrix Definition(s):')\n",
        "                for v in ralphs:\n",
        "                    print(\"Index \" + str(v[0]) + \": \");\n",
        "                    print(v[1]);\n",
        "    else:\n",
        "        ordered_list = ol;\n",
        "        results = recursive_matrix_multiply(ordered_list, 0);\n",
        "        print(results);\n",
        "\n",
        "\n",
        "def order_matricies(mlist, ordered_list, search, longest_failure):\n",
        "    if len(mlist) == 0:\n",
        "        # When there are no more matricies to consider, we have matched all matricies\n",
        "        return 0, ordered_list, \"OK\", longest_failure;\n",
        "    for j, matrix in enumerate(mlist):\n",
        "        if search is None or len(matrix) == search:\n",
        "            # We have a candidate for further study\n",
        "            # Get Next Match Requirement\n",
        "            match = len(matrix[0]);\n",
        "            # Add To Ordered List\n",
        "            ordered_list.append(matrix);\n",
        "            # Remove This Item From The List\n",
        "            del mlist[j];\n",
        "            err, ol, msg, longest = order_matricies(mlist, ordered_list, match, longest_failure);\n",
        "            if err == 1:\n",
        "                # Road to nowhere, this was a bust\n",
        "                # Add it to the list of failures:\n",
        "                if len(longest_failure) < len(longest):\n",
        "                    longest_failure = longest.copy();\n",
        "                # Backtrack\n",
        "                mlist.insert(i, ordered_list.pop());\n",
        "            else:\n",
        "                if len(longest_failure) < len(longest):\n",
        "                    longest_failure = longest.copy();\n",
        "                # A complete route was found\n",
        "                ordered_list = ol;\n",
        "                return 0, ordered_list, \"OK\", longest_failure;\n",
        "    else:\n",
        "        # If We Make It Here, It Means No Match Was Found\n",
        "        if len(longest_failure) > len(ordered_list):\n",
        "            return 1, ordered_list, \"No Valid Permutation Exists\", longest_failure.copy();   \n",
        "        else:\n",
        "            return 1, ordered_list, \"No Valid Permutation Exists\", ordered_list.copy();\n",
        "\n",
        "class Error(Exception):\n",
        "   pass\n",
        "\n",
        "class NoPossiblePermutationWithGivenElements(Error):\n",
        "   \"\"\"Raised When No Possible Permutation Of The Input Is Valid For Matrix Multiplication\"\"\"\n",
        "   pass\n",
        "\n",
        "def recursive_matrix_multiply(olist, index):\n",
        "\n",
        "    if index == len(olist)-1:\n",
        "        return olist[index];\n",
        "    \n",
        "    return np.matmul(olist[index], recursive_matrix_multiply(olist, index+1));\n"
      ],
      "execution_count": 0,
      "outputs": []
    },
    {
      "cell_type": "code",
      "metadata": {
        "colab_type": "code",
        "outputId": "95329627-9003-4bc6-8abb-3f9a0fb50a21",
        "id": "4LsUGIcmijhT",
        "colab": {
          "base_uri": "https://localhost:8080/",
          "height": 51
        }
      },
      "source": [
        "multiply_matrices(matrix_list);"
      ],
      "execution_count": 4,
      "outputs": [
        {
          "output_type": "stream",
          "text": [
            "[[ 380652  413280  445908]\n",
            " [ 939030 1019520 1100010]]\n"
          ],
          "name": "stdout"
        }
      ]
    }
  ]
}