{
  "nbformat": 4,
  "nbformat_minor": 0,
  "metadata": {
    "colab": {
      "name": "HW5.ipynb",
      "provenance": [],
      "collapsed_sections": [
        "1B_wzpdw6VOA",
        "n89tv2PO6aks"
      ],
      "toc_visible": true,
      "authorship_tag": "ABX9TyMfs9b2+acfHg9vi77XkHnD",
      "include_colab_link": true
    },
    "kernelspec": {
      "name": "python3",
      "display_name": "Python 3"
    }
  },
  "cells": [
    {
      "cell_type": "markdown",
      "metadata": {
        "id": "view-in-github",
        "colab_type": "text"
      },
      "source": [
        "<a href=\"https://colab.research.google.com/github/Theagentxero/CAP4630/blob/master/HW5/trichards%20-%20HW5.ipynb\" target=\"_parent\"><img src=\"https://colab.research.google.com/assets/colab-badge.svg\" alt=\"Open In Colab\"/></a>"
      ]
    },
    {
      "cell_type": "markdown",
      "metadata": {
        "id": "ZTVq_QWmEAZm",
        "colab_type": "text"
      },
      "source": [
        "# General Concepts"
      ]
    },
    {
      "cell_type": "markdown",
      "metadata": {
        "id": "koOmlcrgED1X",
        "colab_type": "text"
      },
      "source": [
        "###Artificial Intelligence "
      ]
    },
    {
      "cell_type": "markdown",
      "metadata": {
        "id": "r5ew6PVYEMDp",
        "colab_type": "text"
      },
      "source": [
        "Often called AI, Artificial Intelligence describes any computer driven simulation of human-like or intelligent behaviors.\n",
        "\n",
        "Examples can be as mundane as a pathfinding algorithm in a video game, through to self driving vehicles."
      ]
    },
    {
      "cell_type": "markdown",
      "metadata": {
        "id": "URh-etWWENso",
        "colab_type": "text"
      },
      "source": [
        "###Machine Learning"
      ]
    },
    {
      "cell_type": "markdown",
      "metadata": {
        "id": "vR2glJfnEN5N",
        "colab_type": "text"
      },
      "source": [
        "Machine Learning or ML is a description given to AI which can learn to adjust or improve their own behavior without requiring that additional code be implemented.\n",
        "\n",
        "It is worth noting that Machine Learning is considered a subset of Artificial Intelligence.\n",
        "\n",
        "Generally, there are three types of machine learning, supervised, unsupervised and reinforcement.\n",
        "\n",
        "**Supervised learning** is a type of machine learning where a ML model is provied with labeled training data, and the model's prediction is validated against the label. This validation is used as feedback to improve the model.\n",
        "\n",
        "**Unsupervised learning** is a type of machiche learning where the ML model is provided with an unlabeled data set, the model therefore has no validation data to assist in improving the model. Therefore the model must infer the ruleset.\n",
        "\n",
        "**Reinforcement Learning** is a type of machine learning where a ML model is given a reward or punshment when a particular state or action is arived at."
      ]
    },
    {
      "cell_type": "markdown",
      "metadata": {
        "id": "b6JunVG6EOFb",
        "colab_type": "text"
      },
      "source": [
        "###Deep Learning"
      ]
    },
    {
      "cell_type": "markdown",
      "metadata": {
        "id": "uMHpTbaKEONK",
        "colab_type": "text"
      },
      "source": [
        "Deep Learning or DL is a subset of Machine Learning. It describes machine learning which is both unsupervised and can learn from unlabled data sets. "
      ]
    },
    {
      "cell_type": "markdown",
      "metadata": {
        "id": "pSs9oTaVEWwV",
        "colab_type": "text"
      },
      "source": [
        "#Basic Concepts"
      ]
    },
    {
      "cell_type": "markdown",
      "metadata": {
        "id": "XHGAuGwgSw62",
        "colab_type": "text"
      },
      "source": [
        "#### Model Types: Regression vs. Classification\n",
        "\n",
        "##### **What is a Regression Model?**\n",
        "Regression models predict continuous values.\n",
        "\n",
        "##### **What is a Classification Model?**\n",
        "Classification models predict discrete values."
      ]
    },
    {
      "cell_type": "markdown",
      "metadata": {
        "id": "I40mB2SF7zga",
        "colab_type": "text"
      },
      "source": [
        "### Basic Loss Calculation Using Mean Squared Error"
      ]
    },
    {
      "cell_type": "markdown",
      "metadata": {
        "id": "alYATNOS75zt",
        "colab_type": "text"
      },
      "source": [
        "Mean Squared Error (MSE) uses the following equation to determine the average loss over a dataset.\n",
        "\n",
        "\\begin{equation}\n",
        "\\mathrm{MSE}(w) = \\frac{1}{m} \\sum_{i=1}^m (y^{(i)} - \\hat{y}^{(i)})^2\n",
        "\\end{equation}\n",
        "\n",
        "To get $\\hat{y}$ (defined as the prediction result) we can use one of the following methods:"
      ]
    },
    {
      "cell_type": "markdown",
      "metadata": {
        "id": "n8Fqq5CIR54s",
        "colab_type": "text"
      },
      "source": [
        "### Linear Regression"
      ]
    },
    {
      "cell_type": "markdown",
      "metadata": {
        "id": "X7Uro1BRSX8P",
        "colab_type": "text"
      },
      "source": [
        "Linear regression attemps to predict a line to define the relationship between a feature (or set of features) and a label. \n",
        "\n",
        "Assuming that the model has ${n}$ features, the prediction $\\hat{y}$ is described in linear regression as: $\\hat{y}=b+\\sum _{j=1}^n\\left(w_jx_j\\right)\\:$\n",
        "\n",
        "Where:\n",
        "\n",
        "$\\hat{y}$ is the prediction result\n",
        "\n",
        "${b}$ is the bias\n",
        "\n",
        "${w_j}$ is the weight of the ${j^{th}}$ feature\n",
        "\n",
        "${x_j}$ is the ${j^{th}}$ feature input"
      ]
    },
    {
      "cell_type": "markdown",
      "metadata": {
        "id": "RgsBPpsIXn6V",
        "colab_type": "text"
      },
      "source": [
        "##### An example of the line described by a model would be:"
      ]
    },
    {
      "cell_type": "code",
      "metadata": {
        "id": "R4Q6heKqXvFV",
        "colab_type": "code",
        "colab": {
          "base_uri": "https://localhost:8080/",
          "height": 294
        },
        "outputId": "173d9b0e-d450-46dc-f515-a28dff691ade"
      },
      "source": [
        "import matplotlib.pyplot as plt\n",
        "import numpy as np\n",
        "m = 5\n",
        "b = 10\n",
        "x = np.linspace(-1,1,20)\n",
        "y = b + (m * x)\n",
        "plt.plot(x,y)\n",
        "plt.suptitle('Linear Regression', fontsize=18)\n",
        "plt.show()"
      ],
      "execution_count": 3,
      "outputs": [
        {
          "output_type": "display_data",
          "data": {
            "image/png": "[encoded data removed]",
            "text/plain": [
              "<Figure size 432x288 with 1 Axes>"
            ]
          },
          "metadata": {
            "tags": [],
            "needs_background": "light"
          }
        }
      ]
    },
    {
      "cell_type": "markdown",
      "metadata": {
        "id": "zU22X_OhSNRj",
        "colab_type": "text"
      },
      "source": [
        "### Logistic Regression"
      ]
    },
    {
      "cell_type": "markdown",
      "metadata": {
        "id": "mLvibIIAU9z2",
        "colab_type": "text"
      },
      "source": [
        "Logistic Regression is a system similar to linear regression, except that instead of a using a line that could be described as $y = mx+b$ logistic regression uses a line described by some logistic function.\n",
        "\n",
        "One that was described in this class was the Sigmoid Function. $\\sigma \\:\\left(z\\right)=\\frac{1}{1+e^z}$"
      ]
    },
    {
      "cell_type": "markdown",
      "metadata": {
        "id": "KYtqCo3Faew4",
        "colab_type": "text"
      },
      "source": [
        "##### An example of the line described by a model would be:"
      ]
    },
    {
      "cell_type": "code",
      "metadata": {
        "id": "LyPlLRmIYssr",
        "colab_type": "code",
        "colab": {
          "base_uri": "https://localhost:8080/",
          "height": 294
        },
        "outputId": "e0fe8b2e-eaae-478d-d462-081ded2ec4f2"
      },
      "source": [
        "import matplotlib.pyplot as plt\n",
        "import numpy as np\n",
        "x = np.linspace(-10,10,100)\n",
        "y = 1 / (1 + np.exp(-x))\n",
        "plt.plot(x,y)\n",
        "plt.suptitle('Logistic Regression', fontsize=15)\n",
        "plt.show()"
      ],
      "execution_count": 8,
      "outputs": [
        {
          "output_type": "display_data",
          "data": {
            "image/png": "[encoded data removed]",
            "text/plain": [
              "<Figure size 432x288 with 1 Axes>"
            ]
          },
          "metadata": {
            "tags": [],
            "needs_background": "light"
          }
        }
      ]
    },
    {
      "cell_type": "markdown",
      "metadata": {
        "id": "ASjGXlCSST7x",
        "colab_type": "text"
      },
      "source": [
        "### Gradient Descent"
      ]
    },
    {
      "cell_type": "markdown",
      "metadata": {
        "id": "e-XbjvFaa_Bn",
        "colab_type": "text"
      },
      "source": [
        "A Gradient descent model will attempt to minimize loss, by descending down a gradient curve to arrive at a point of lowest loss.\n",
        "\n",
        "Typically the model is begin by picking an arbitrary starting point and then will attempt to predict points around the starting point. The model will then use the point that had the lowest loss result as the new starting point, repeating the process until it arrives at the point of lowest loss. \n",
        "\n",
        "The speed at which the gradient descent occurs is described by the learning rate. Learning rate is a so called hyperparameter. The learning rate describes the step size of the descent down the gradient. "
      ]
    },
    {
      "cell_type": "markdown",
      "metadata": {
        "id": "RBxNt_ZEs4RT",
        "colab_type": "text"
      },
      "source": [
        "#### Types of Gradient Descent\n"
      ]
    },
    {
      "cell_type": "markdown",
      "metadata": {
        "id": "1zAEU7hUQtkJ",
        "colab_type": "text"
      },
      "source": [
        "There Are Three Types of Gradient Descent:\n",
        "\n",
        "*   Batch Gradient Descent\n",
        "> Instead of performing gradient descent after each training input, the input is given all at once, in a single batch, and gradient descent is performed after each batch. Very large batch sizes reduce noise, but also increase the computation time.\n",
        "*   Stochastic Gradient Descent\n",
        "> This is the oposite of Batch Gradient Descent, where the batch size is 1. Performing gradient descent after each input. This computes very quickly, but may cause high levels of noise.\n",
        "*   Mini Batch Gradient Descent\n",
        "> This is a middle ground between Batch and Stochastic, with batch sizes between 10 and 10,000. This strikes a balance between noise and computation time.\n"
      ]
    },
    {
      "cell_type": "markdown",
      "metadata": {
        "colab_type": "text",
        "id": "Z9paJvjFQn7f"
      },
      "source": [
        "#### Example\n"
      ]
    },
    {
      "cell_type": "markdown",
      "metadata": {
        "id": "hqSmocUBdgDB",
        "colab_type": "text"
      },
      "source": [
        "##### An example of the line described by a model would be:"
      ]
    },
    {
      "cell_type": "code",
      "metadata": {
        "id": "CGebthj-dkQy",
        "colab_type": "code",
        "colab": {
          "base_uri": "https://localhost:8080/",
          "height": 308
        },
        "outputId": "95343631-046c-4e17-dc91-6d04b3a22da7"
      },
      "source": [
        "import matplotlib.pyplot as plt\n",
        "import numpy as np\n",
        "x = np.linspace(-6,3,100)\n",
        "y = 4 * (x)**2\n",
        "plt.plot(x,y)\n",
        "plt.plot(-5, 100, 'yo', label=\"Arbitary Start Point\")  \n",
        "plt.plot(0, 0, 'go', label=\"Point of Lowest Loss\")  \n",
        "plt.ylabel(\"Loss\", fontdict=None, labelpad=None)\n",
        "plt.xlabel(\"w value\", fontdict=None, labelpad=None)\n",
        "plt.suptitle('Gradient Descent', fontsize=15)\n",
        "plt.legend()\n",
        "plt.show()"
      ],
      "execution_count": 18,
      "outputs": [
        {
          "output_type": "display_data",
          "data": {
            "image/png": "[encoded data removed]",
            "text/plain": [
              "<Figure size 432x288 with 1 Axes>"
            ]
          },
          "metadata": {
            "tags": [],
            "needs_background": "light"
          }
        }
      ]
    },
    {
      "cell_type": "markdown",
      "metadata": {
        "id": "sOYyN7fmhf6t",
        "colab_type": "text"
      },
      "source": [
        "#Bulding A Model"
      ]
    },
    {
      "cell_type": "markdown",
      "metadata": {
        "id": "A6HP5LBVifEu",
        "colab_type": "text"
      },
      "source": [
        "A simple defintion of a model would be a function that maps an input or set of inputs to some output or set of outputs. \n",
        "\n",
        "Taking the form:\n",
        "${f(x_{(n)}) \\rightarrow y_{(n)}}$\n",
        "\n",
        "Where ${f}$ takes some arbitrary set of inputs denoted $x_{(n)}$ and outputs some arbitrary set of outputs denoted $y_{(n)}$.\n"
      ]
    },
    {
      "cell_type": "markdown",
      "metadata": {
        "id": "pUF6-yk9lRtt",
        "colab_type": "text"
      },
      "source": [
        "#### Model Basics\n",
        "\n",
        "Generally speaking a model is made up of multiple discrete layers, interacting with each other, where the output of one layer will feed into the input of the next.\n",
        "\n",
        "![Basic Model Layout](https://i.imgur.com/yrn67gr.png)\n",
        "\n"
      ]
    },
    {
      "cell_type": "markdown",
      "metadata": {
        "id": "Fx2KY_31j6fF",
        "colab_type": "text"
      },
      "source": [
        "#### Creating A Stack Of Layers To Suit A Given Purpose"
      ]
    },
    {
      "cell_type": "markdown",
      "metadata": {
        "id": "dvoIpJHckBja",
        "colab_type": "text"
      },
      "source": [
        "In this class we used Keras, backed by TensorFlow to build models to suit our purposes. Keras has many different types of layers, but they typically fall one of the following categories."
      ]
    },
    {
      "cell_type": "markdown",
      "metadata": {
        "id": "lWrTwGtOnt8F",
        "colab_type": "text"
      },
      "source": [
        "##### The Different Types of Layers In Keras"
      ]
    },
    {
      "cell_type": "markdown",
      "metadata": {
        "id": "MwSY8sfonz7a",
        "colab_type": "text"
      },
      "source": [
        "**Dense Layers**\n",
        "Dense layers, sometimes called densely connected, or fully connected layers are layers that process simple vector data, stored in 2D tensors. These tensors are shaped as such (samples, features)\n",
        "\n",
        "\n",
        "**Recurrent Layers**\n",
        "Recurrent layers, sometimes called LSTM (meaning Long-Short Term Memory) layers process data stored in 3D tensors, generally differentiated from the 2D tensors by addition of a timestep. So a 3D tensor may look like this (samples, timesteps, features)\n",
        "\n",
        "**Convolutional**\n",
        "Convolutional layers, are generally used to process image data. Which is taken in as a 2D vector derived from an image.\n"
      ]
    },
    {
      "cell_type": "markdown",
      "metadata": {
        "id": "VouCHsQApqi8",
        "colab_type": "text"
      },
      "source": [
        "##### An Example Of A Model Built With A Stack Of Layers"
      ]
    },
    {
      "cell_type": "markdown",
      "metadata": {
        "id": "TMrtgyn8qIJU",
        "colab_type": "text"
      },
      "source": [
        "![Convolutional Neural Network That Takes An Input Photo and Determines if The Input Photo Contains A Cat](https://i.imgur.com/6g8SVOl.png)\n",
        "*Source:* [Dr. Pawel Wocjan - CNN_slides.pdf](https://github.com/schneider128k/machine_learning_course/blob/master/slides/CNN_slides.pdf)\n",
        "\n",
        "Here we can see the following layers:\n",
        "\n",
        "The Input is fed into a **Convolutional** (conv2d + ReLU) Layer into a **Convolutional** (maxpool) Layer into another **Convolutional** (conv2d + ReLU) Layer into another **Convolutional** (maxpool) into a **Dense** Layer into another **Dense** Layer which produces the final output\n"
      ]
    },
    {
      "cell_type": "markdown",
      "metadata": {
        "id": "92FyrUJuiOLF",
        "colab_type": "text"
      },
      "source": [
        "# Comping A Model"
      ]
    },
    {
      "cell_type": "markdown",
      "metadata": {
        "id": "lm-JDLaBuo_2",
        "colab_type": "text"
      },
      "source": [
        "Compliling a model is an important part of configuring the learning process for the Keras model. To understand how to do this some key terms are required"
      ]
    },
    {
      "cell_type": "markdown",
      "metadata": {
        "id": "YjvP5yGEu4_1",
        "colab_type": "text"
      },
      "source": [
        "### Loss Functions"
      ]
    },
    {
      "cell_type": "markdown",
      "metadata": {
        "id": "caRtaAO1u_3W",
        "colab_type": "text"
      },
      "source": [
        "The loss function determines the loss between the expected output and the prediction.\n",
        "\n",
        "It is the primary measure of how successful the model has been in predicting the output. As such it is very important that an appropriate loss function is selected.\n",
        "\n",
        "Use the table below to assist in the selection of an appropirate loss function based on the type of problem being solved.\n",
        "\n",
        "| Problem Type                            | Loss Function              |\n",
        "|-----------------------------------------|----------------------------|\n",
        "| Binary Classification                   | binary_crossentropy        |\n",
        "| Multiclass, single-label classification | categorical_crossentropy   |\n",
        "| Multiclass, multi-label classification  | binary_crossentropy        |\n",
        "| Regression to Arbitrary Values          | mse                        |\n",
        "| Regression to values in [0,1]           | mse or binary_crossentropy |\n",
        "\n",
        "*Table Source:* [Dr. Pawel Wocjan - 4_slides.pdf](https://github.com/schneider128k/machine_learning_course/blob/master/slides/4_slides.pdf)\n",
        "\n"
      ]
    },
    {
      "cell_type": "markdown",
      "metadata": {
        "id": "9fdMx5AQwKH3",
        "colab_type": "text"
      },
      "source": [
        "### Optimizers\n",
        "\n"
      ]
    },
    {
      "cell_type": "markdown",
      "metadata": {
        "id": "0Sgx-kKOwqUs",
        "colab_type": "text"
      },
      "source": [
        "Optimizers determine how the network will be updated based on the selected loss function.\n",
        "\n",
        "An optimizer updates the weight parameters of the model in response to the loss function in an attempt to minimize the loss function output.\n",
        "\n",
        "All optimizers will attempt to find a set of weight parameters such that the loss function is at the global minimum.\n",
        "\n",
        "We have already taked about Stocastic Gradient Descent, which is a type of optimizer, but another common optimizer is adam.\n",
        "\n",
        "Stochatitic Gradient Descent has the local minima problem. "
      ]
    },
    {
      "cell_type": "markdown",
      "metadata": {
        "id": "tAv6suDE2HKI",
        "colab_type": "text"
      },
      "source": [
        "The Local Minima Problem of Stochastic Gradient Descent:\n",
        "\n",
        "![Graph Describing Local and Global Minima Discrepancy](https://i.imgur.com/dhVCWHd.png)\n",
        "\n",
        "Stochastic Gradient Descent can get stuck at local minima (denoted in orange), missing the global minima (denoted in green).\n",
        "\n",
        "Other optimizers such at adam attempt to solve this problem by using the concept of moment estimatation. \n"
      ]
    },
    {
      "cell_type": "markdown",
      "metadata": {
        "id": "CrcPmcYJ0Ag3",
        "colab_type": "text"
      },
      "source": [
        "### Learning Rates\n"
      ]
    },
    {
      "cell_type": "markdown",
      "metadata": {
        "id": "ZbWM21dstG3R",
        "colab_type": "text"
      },
      "source": [
        "Briefly described in the section above called Gradient Descent, the learning rate is a Hyperparameter that describes the size of the steps that the optimizer takes. \n",
        "\n",
        "The goal of selecting an appropriate learning rate would be to select a goldilocks value, where the learning rate is large enough that training does not require an immense amount of time, but small enough that the loss can be minimized effectively."
      ]
    },
    {
      "cell_type": "markdown",
      "metadata": {
        "id": "z8mIQJube476",
        "colab_type": "text"
      },
      "source": [
        "#### Inappropriate learning rates described with gradient descent\n"
      ]
    },
    {
      "cell_type": "markdown",
      "metadata": {
        "id": "1B_wzpdw6VOA",
        "colab_type": "text"
      },
      "source": [
        "##### Learning Rate Too Low"
      ]
    },
    {
      "cell_type": "markdown",
      "metadata": {
        "id": "7uRKdQBYhRN_",
        "colab_type": "text"
      },
      "source": [
        "A learning rate that is too small will cause the model to take a very long time to reach the point of smallest loss\n",
        "\n",
        "The following graph shows a learning rate that is very low, with blue dots describing the indivudal test points."
      ]
    },
    {
      "cell_type": "code",
      "metadata": {
        "id": "Js_1rG-afkAU",
        "colab_type": "code",
        "colab": {
          "base_uri": "https://localhost:8080/",
          "height": 308
        },
        "outputId": "2b6e5a8e-2f3a-4a9c-f4d3-2eeb3480a833"
      },
      "source": [
        "import matplotlib.pyplot as plt\n",
        "import numpy as np\n",
        "x = np.linspace(-6,3,100)\n",
        "y = 4 * (x)**2\n",
        "\n",
        "x_lr_low = np.linspace(-5, 0, 50)\n",
        "y_lr_low = np.zeros((50,1));\n",
        "\n",
        "for i, xlr in enumerate(x_lr_low):\n",
        "    y_lr_low[i] = 4 * (xlr)**2\n",
        "\n",
        "plt.plot(x,y)\n",
        "plt.scatter(x_lr_low, y_lr_low)\n",
        "plt.plot(-5, 100, 'yo', label=\"Arbitary Start Point\")  \n",
        "plt.plot(0, 0, 'go', label=\"Point of Lowest Loss\")\n",
        "plt.ylabel(\"Loss\", fontdict=None, labelpad=None)\n",
        "plt.xlabel(\"w value\", fontdict=None, labelpad=None)\n",
        "plt.suptitle('Very Slow Gradient Descent', fontsize=15)\n",
        "plt.legend()\n",
        "plt.show()"
      ],
      "execution_count": 23,
      "outputs": [
        {
          "output_type": "display_data",
          "data": {
            "image/png": "[encoded data removed]",
            "text/plain": [
              "<Figure size 432x288 with 1 Axes>"
            ]
          },
          "metadata": {
            "tags": [],
            "needs_background": "light"
          }
        }
      ]
    },
    {
      "cell_type": "markdown",
      "metadata": {
        "id": "n89tv2PO6aks",
        "colab_type": "text"
      },
      "source": [
        "##### Learning Rate Too High"
      ]
    },
    {
      "cell_type": "markdown",
      "metadata": {
        "id": "adbKklhhhIY-",
        "colab_type": "text"
      },
      "source": [
        "A learning rate that is too large can cause the testing to overshoot the point of lowest loss. \n",
        "\n",
        "(Not depicted here, it may cause hysteresis. Where the attempt jump back and forth across the global minima without ever reaching the minima.)"
      ]
    },
    {
      "cell_type": "code",
      "metadata": {
        "id": "kCmhcS30g8h_",
        "colab_type": "code",
        "colab": {
          "base_uri": "https://localhost:8080/",
          "height": 308
        },
        "outputId": "a974c3b4-1bfd-4eb7-a40b-899f45609154"
      },
      "source": [
        "import matplotlib.pyplot as plt\n",
        "import numpy as np\n",
        "x = np.linspace(-6,3,100)\n",
        "y = 4 * (x)**2\n",
        "\n",
        "x_lr_low = np.linspace(-5, 1, 6)\n",
        "y_lr_low = np.zeros((6,1));\n",
        "\n",
        "for i, xlr in enumerate(x_lr_low):\n",
        "    y_lr_low[i] = 4 * (xlr)**2\n",
        "\n",
        "plt.plot(x,y)\n",
        "plt.scatter(x_lr_low, y_lr_low)\n",
        "plt.plot(-5, 100, 'yo', label=\"Arbitary Start Point\")  \n",
        "plt.plot(0, 0, 'go', label=\"Point of Lowest Loss\")\n",
        "plt.ylabel(\"Loss\", fontdict=None, labelpad=None)\n",
        "plt.xlabel(\"w value\", fontdict=None, labelpad=None)\n",
        "plt.suptitle('Very Fast Gradient Descent', fontsize=15)\n",
        "plt.legend()\n",
        "plt.show()"
      ],
      "execution_count": 27,
      "outputs": [
        {
          "output_type": "display_data",
          "data": {
            "image/png": "[encoded data removed]",
            "text/plain": [
              "<Figure size 432x288 with 1 Axes>"
            ]
          },
          "metadata": {
            "tags": [],
            "needs_background": "light"
          }
        }
      ]
    },
    {
      "cell_type": "markdown",
      "metadata": {
        "id": "je38R--z7P5e",
        "colab_type": "text"
      },
      "source": [
        "# Training A Model"
      ]
    },
    {
      "cell_type": "markdown",
      "metadata": {
        "id": "YtoOG7B3DxDE",
        "colab_type": "text"
      },
      "source": [
        "Training a model, also called fitting a model. Is the process of giving the Model data and allowing it to attempt to adjust the weights to create the most acurrate prediction possible.\n",
        "\n",
        "Trained models are usefull as they can be used to predict new and novel inputs, sometimes called unlabeled inputs, these inputs did not come from the training input set. In the below example, we may choose to pass a point, which we do not know the class of, and receive the model's prediction of that points class."
      ]
    },
    {
      "cell_type": "markdown",
      "metadata": {
        "id": "BbJzduZb8luq",
        "colab_type": "text"
      },
      "source": [
        "### Some Key Terms:"
      ]
    },
    {
      "cell_type": "markdown",
      "metadata": {
        "id": "Sq1BW7d58r1T",
        "colab_type": "text"
      },
      "source": [
        "#### Epoch\n",
        "\n",
        "An Epoch is defined as a single exposure of the entire data set to be learned to the model.\n",
        "\n",
        "It is common for a model to run through multiple epochs."
      ]
    },
    {
      "cell_type": "markdown",
      "metadata": {
        "colab_type": "text",
        "id": "ryNQNQuaEE2d"
      },
      "source": [
        "### Given The Following Input\n",
        "\n",
        "We wish to draw a line that cateogorizes the points into either a blue class or a red class.\n",
        "\n",
        "Our line will define that points above the line are blue class, and points below the line are red class.\n",
        "\n",
        "Here are the points:\n",
        "\n",
        "![alt text](https://i.imgur.com/ZqK98Xt.png)\n"
      ]
    },
    {
      "cell_type": "markdown",
      "metadata": {
        "id": "4Fr2ozI884MN",
        "colab_type": "text"
      },
      "source": [
        "### Overfitting"
      ]
    },
    {
      "cell_type": "markdown",
      "metadata": {
        "id": "8IjB6sEXGCk2",
        "colab_type": "text"
      },
      "source": [
        "Overfitting is where the model too tightly matches the input set. It is detrimental because the model will not accurately predict future unlabled inputs where we would like to make predictions.\n",
        "\n",
        "Overfitting Can Occur When:\n",
        "\n",
        "*   The input data set is too small\n",
        "*   The model is overtrained, I.E. Too many epochs are run\n",
        "*   The model is too complex for the input set\n",
        "\n"
      ]
    },
    {
      "cell_type": "markdown",
      "metadata": {
        "id": "57O3f8XU87_i",
        "colab_type": "text"
      },
      "source": [
        "![alt text](https://i.imgur.com/QCBX28z.png)\n"
      ]
    },
    {
      "cell_type": "markdown",
      "metadata": {
        "colab_type": "text",
        "id": "h2sbrMzv_KPM"
      },
      "source": [
        "### Underfitting"
      ]
    },
    {
      "cell_type": "markdown",
      "metadata": {
        "id": "xOP6OM9XGxy5",
        "colab_type": "text"
      },
      "source": [
        "Underfitting is a condition where the model does not sufficiently minimize loss, causing predictions to be inacurate in more cases than nessicary.\n",
        "\n",
        "Underfitting Can Occur When:\n",
        "\n",
        "*   The model is undertrained, I.E. Not enough epochs are run\n",
        "*   The training and testing data are too different\n",
        "*   The model has not been given sufficient testing data.\n",
        "*   The model is too simple for the input set\n",
        "\n"
      ]
    },
    {
      "cell_type": "markdown",
      "metadata": {
        "id": "TSAVhoFD_I0B",
        "colab_type": "text"
      },
      "source": [
        "![alt text](https://i.imgur.com/Yh9cspn.png)\n"
      ]
    },
    {
      "cell_type": "markdown",
      "metadata": {
        "colab_type": "text",
        "id": "Xs5aYsoKEXij"
      },
      "source": [
        "### A Good Fit"
      ]
    },
    {
      "cell_type": "markdown",
      "metadata": {
        "id": "WW5NSeiAHR-d",
        "colab_type": "text"
      },
      "source": [
        "Below is an example of a good fit, this fit should serve well to predict unlabled data when requested."
      ]
    },
    {
      "cell_type": "markdown",
      "metadata": {
        "id": "SLIWNqdMEa59",
        "colab_type": "text"
      },
      "source": [
        "![alt text](https://i.imgur.com/wk48Ulc.png)"
      ]
    },
    {
      "cell_type": "markdown",
      "metadata": {
        "id": "HVNpkdah-m1F",
        "colab_type": "text"
      },
      "source": [
        "# Finetuning A Pre-Trained Model"
      ]
    },
    {
      "cell_type": "markdown",
      "metadata": {
        "id": "KtPetZxyJEO7",
        "colab_type": "text"
      },
      "source": [
        "Often, building and compiling a model from scratch is unnessecary. It may be possible to use a pre-trained model to perform the behavior required.\n",
        "\n",
        "Keras helpfully includes several pre-trained models for image classification that Keras calls Applications.\n",
        "\n",
        "A popular pre-trained model is VGG16."
      ]
    },
    {
      "cell_type": "markdown",
      "metadata": {
        "id": "USVPixNFLCwF",
        "colab_type": "text"
      },
      "source": [
        "### Actually Modifying The Pre-Trained Model\n"
      ]
    },
    {
      "cell_type": "markdown",
      "metadata": {
        "id": "u2bDHgK7MRaQ",
        "colab_type": "text"
      },
      "source": [
        "Adapted From [Dr. Paul Wocjan's pretrained_convnet_finetuning notebook](https://colab.research.google.com/drive/1F-RWvoxH8MmT7c1UmNy41iuOp-ejiLoF#scrollTo=lOWsxpey8lN0)"
      ]
    },
    {
      "cell_type": "markdown",
      "metadata": {
        "id": "pigeBc5ALLxP",
        "colab_type": "text"
      },
      "source": [
        "1. Load The Pre-Trained Model"
      ]
    },
    {
      "cell_type": "code",
      "metadata": {
        "id": "9fvMlhveLHzq",
        "colab_type": "code",
        "colab": {
          "base_uri": "https://localhost:8080/",
          "height": 68
        },
        "outputId": "5b5554b9-0bd3-4f13-8c72-e467d394120d"
      },
      "source": [
        "from keras.applications import VGG16\n",
        "\n",
        "conv_base = VGG16(\n",
        "    weights='imagenet', \n",
        "    include_top=False, \n",
        "    input_shape=(150, 150, 3))"
      ],
      "execution_count": 38,
      "outputs": [
        {
          "output_type": "stream",
          "text": [
            "Using TensorFlow backend.\n"
          ],
          "name": "stderr"
        },
        {
          "output_type": "stream",
          "text": [
            "Downloading data from https://github.com/fchollet/deep-learning-models/releases/download/v0.1/vgg16_weights_tf_dim_ordering_tf_kernels_notop.h5\n",
            "58892288/58889256 [==============================] - 1s 0us/step\n"
          ],
          "name": "stdout"
        }
      ]
    },
    {
      "cell_type": "markdown",
      "metadata": {
        "id": "D-WAN9BSLQ-I",
        "colab_type": "text"
      },
      "source": [
        "2. Freeze The Base Layer\n",
        "\n",
        "by setting the .trainable property of the model to false"
      ]
    },
    {
      "cell_type": "code",
      "metadata": {
        "id": "uj8xkR23LWCk",
        "colab_type": "code",
        "colab": {}
      },
      "source": [
        "conv_base.trainable = False"
      ],
      "execution_count": 0,
      "outputs": []
    },
    {
      "cell_type": "markdown",
      "metadata": {
        "id": "luJ6qjWoLk27",
        "colab_type": "text"
      },
      "source": [
        "3. Build a model using the frozen base, and some added trainable layers"
      ]
    },
    {
      "cell_type": "code",
      "metadata": {
        "id": "efu3L4ctLsyC",
        "colab_type": "code",
        "colab": {}
      },
      "source": [
        "from keras import layers\n",
        "from keras import models\n",
        "from keras import optimizers\n",
        "\n",
        "model = models.Sequential()\n",
        "model.add(conv_base)\n",
        "model.add(layers.Flatten())\n",
        "model.add(layers.Dense(256, activation='relu'))\n",
        "#model.add(layers.Dropout(0.1))\n",
        "model.add(layers.Dense(1, activation='sigmoid'))"
      ],
      "execution_count": 0,
      "outputs": []
    },
    {
      "cell_type": "markdown",
      "metadata": {
        "id": "xmaNsu7pMo7C",
        "colab_type": "text"
      },
      "source": [
        "4. Compile This New Model Model"
      ]
    },
    {
      "cell_type": "code",
      "metadata": {
        "id": "khFZYNK6Mu5m",
        "colab_type": "code",
        "colab": {}
      },
      "source": [
        "from keras import optimizers\n",
        "model.compile(\n",
        "    loss='binary_crossentropy', \n",
        "    optimizer=optimizers.RMSprop(lr=2e-5), \n",
        "    metrics=['acc'])"
      ],
      "execution_count": 0,
      "outputs": []
    },
    {
      "cell_type": "markdown",
      "metadata": {
        "id": "YcNVHuEVMx7H",
        "colab_type": "text"
      },
      "source": [
        "5. Train The Newly Compiled Model\n"
      ]
    },
    {
      "cell_type": "code",
      "metadata": {
        "id": "V3GtBfhcM0B4",
        "colab_type": "code",
        "colab": {}
      },
      "source": [
        "history = model.fit_generator(\n",
        "    training_data_set,\n",
        "    steps_per_epoch=100,\n",
        "    epochs=30,\n",
        "    validation_data=validation_data_set,\n",
        "    validation_steps=50\n",
        ")"
      ],
      "execution_count": 0,
      "outputs": []
    },
    {
      "cell_type": "markdown",
      "metadata": {
        "id": "TbNVur6XNFqr",
        "colab_type": "text"
      },
      "source": [
        "### Fine Tuning This Modified Model"
      ]
    },
    {
      "cell_type": "markdown",
      "metadata": {
        "id": "TEMVSXXwNZLB",
        "colab_type": "text"
      },
      "source": [
        "It is not required that all base layers are frozen, layers can be frozen individaully.\n",
        "\n",
        "Determine Which Layers You Wish To Train.\n",
        "\n",
        "Running the code below will list all availble layers within the base."
      ]
    },
    {
      "cell_type": "code",
      "metadata": {
        "id": "5e2aURTdOECQ",
        "colab_type": "code",
        "colab": {
          "base_uri": "https://localhost:8080/",
          "height": 799
        },
        "outputId": "c912b4cd-e0aa-45aa-b25e-01246e8f83db"
      },
      "source": [
        "conv_base.summary()"
      ],
      "execution_count": 40,
      "outputs": [
        {
          "output_type": "stream",
          "text": [
            "Model: \"vgg16\"\n",
            "_________________________________________________________________\n",
            "Layer (type)                 Output Shape              Param #   \n",
            "=================================================================\n",
            "input_1 (InputLayer)         (None, 150, 150, 3)       0         \n",
            "_________________________________________________________________\n",
            "block1_conv1 (Conv2D)        (None, 150, 150, 64)      1792      \n",
            "_________________________________________________________________\n",
            "block1_conv2 (Conv2D)        (None, 150, 150, 64)      36928     \n",
            "_________________________________________________________________\n",
            "block1_pool (MaxPooling2D)   (None, 75, 75, 64)        0         \n",
            "_________________________________________________________________\n",
            "block2_conv1 (Conv2D)        (None, 75, 75, 128)       73856     \n",
            "_________________________________________________________________\n",
            "block2_conv2 (Conv2D)        (None, 75, 75, 128)       147584    \n",
            "_________________________________________________________________\n",
            "block2_pool (MaxPooling2D)   (None, 37, 37, 128)       0         \n",
            "_________________________________________________________________\n",
            "block3_conv1 (Conv2D)        (None, 37, 37, 256)       295168    \n",
            "_________________________________________________________________\n",
            "block3_conv2 (Conv2D)        (None, 37, 37, 256)       590080    \n",
            "_________________________________________________________________\n",
            "block3_conv3 (Conv2D)        (None, 37, 37, 256)       590080    \n",
            "_________________________________________________________________\n",
            "block3_pool (MaxPooling2D)   (None, 18, 18, 256)       0         \n",
            "_________________________________________________________________\n",
            "block4_conv1 (Conv2D)        (None, 18, 18, 512)       1180160   \n",
            "_________________________________________________________________\n",
            "block4_conv2 (Conv2D)        (None, 18, 18, 512)       2359808   \n",
            "_________________________________________________________________\n",
            "block4_conv3 (Conv2D)        (None, 18, 18, 512)       2359808   \n",
            "_________________________________________________________________\n",
            "block4_pool (MaxPooling2D)   (None, 9, 9, 512)         0         \n",
            "_________________________________________________________________\n",
            "block5_conv1 (Conv2D)        (None, 9, 9, 512)         2359808   \n",
            "_________________________________________________________________\n",
            "block5_conv2 (Conv2D)        (None, 9, 9, 512)         2359808   \n",
            "_________________________________________________________________\n",
            "block5_conv3 (Conv2D)        (None, 9, 9, 512)         2359808   \n",
            "_________________________________________________________________\n",
            "block5_pool (MaxPooling2D)   (None, 4, 4, 512)         0         \n",
            "=================================================================\n",
            "Total params: 14,714,688\n",
            "Trainable params: 14,714,688\n",
            "Non-trainable params: 0\n",
            "_________________________________________________________________\n"
          ],
          "name": "stdout"
        }
      ]
    },
    {
      "cell_type": "markdown",
      "metadata": {
        "id": "ujEg6O0_OL4O",
        "colab_type": "text"
      },
      "source": [
        "It is recommended that layers are selected from layers close to the end of the stack, but results can be acheived by selecting layers from any part of the model.\n",
        "\n",
        "Unfreeze the layer selected, along with all layers after the unfrozen layer.\n",
        "\n",
        "The further up the stack you unfreeze, the longer the retraining process will be."
      ]
    },
    {
      "cell_type": "code",
      "metadata": {
        "id": "7m3Y_YYEO3kr",
        "colab_type": "code",
        "colab": {}
      },
      "source": [
        "# replace this value layer you wish to unfreeze from\n",
        "unfreeze_layer_and_beyond = 'block5_conv1'\n",
        "unfreeze_beyond = False\n",
        "for layer in conv_base.layers:\n",
        "    if layer.name in unfreeze_layers:\n",
        "        layer.trainable = True\n",
        "        unfreeze_beyond = True\n",
        "    else:\n",
        "        if unfreeze_beyond:\n",
        "            layer.trainable = True\n",
        "        else:\n",
        "            layer.trainable = False"
      ],
      "execution_count": 0,
      "outputs": []
    },
    {
      "cell_type": "markdown",
      "metadata": {
        "id": "f8Cj0xPJPSIm",
        "colab_type": "text"
      },
      "source": [
        "The model can now be compiled and trained with these new frozen/unfrozen layers.\n",
        "\n",
        "It is recommended that a smaller learning rate is chosen, this will help to ensure that the model does not change too quickly, which may lead to overfitting."
      ]
    },
    {
      "cell_type": "code",
      "metadata": {
        "id": "ybDyPmhyPaxF",
        "colab_type": "code",
        "colab": {}
      },
      "source": [
        "# Compile The Model\n",
        "model.compile(\n",
        "    loss='binary_crossentropy',\n",
        "    optimizer=optimizers.RMSprop(lr=1e-5), \n",
        "    metrics=['acc'])\n",
        "\n",
        "# Train The Model\n",
        "history = model.fit_generator(\n",
        "    training_data_set,\n",
        "    steps_per_epoch=100,\n",
        "    epochs=100,\n",
        "    validation_data=validation_data_set,\n",
        "    validation_steps=50)"
      ],
      "execution_count": 0,
      "outputs": []
    }
  ]
}